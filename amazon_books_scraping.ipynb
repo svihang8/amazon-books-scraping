{
  "nbformat": 4,
  "nbformat_minor": 0,
  "metadata": {
    "colab": {
      "provenance": [],
      "authorship_tag": "ABX9TyPhkfiIaazKi3lKDqyGsB8F",
      "include_colab_link": true
    },
    "kernelspec": {
      "name": "python3",
      "display_name": "Python 3"
    },
    "language_info": {
      "name": "python"
    }
  },
  "cells": [
    {
      "cell_type": "markdown",
      "metadata": {
        "id": "view-in-github",
        "colab_type": "text"
      },
      "source": [
        "<a href=\"https://colab.research.google.com/github/svihang8/amazon-books-scraping/blob/main/amazon_books_scraping.ipynb\" target=\"_parent\"><img src=\"https://colab.research.google.com/assets/colab-badge.svg\" alt=\"Open In Colab\"/></a>"
      ]
    },
    {
      "cell_type": "code",
      "execution_count": 1,
      "metadata": {
        "id": "J_1TyOlHoAEA"
      },
      "outputs": [],
      "source": [
        "# Imports\n",
        "from bs4 import BeautifulSoup\n",
        "import requests\n",
        "URL = 'https://www.amazon.ca/b/ref=s9_acss_bw_cg_BHP4CG_3a1_w?node=48931647011&pf_rd_m=A1IM4EOPHS76S7&pf_rd_s=merchandised-search-3&pf_rd_r=JM3G8PGHEJPGHJ7S04PF&pf_rd_t=101&pf_rd_p=117535f5-f078-47c6-90c4-101802c6372e&pf_rd_i=916520'"
      ]
    },
    {
      "cell_type": "code",
      "source": [
        "# Requests site\n",
        "request = requests.get(URL)\n",
        "pageContent = request.content\n",
        "soup = BeautifulSoup(pageContent)\n",
        "print(soup)"
      ],
      "metadata": {
        "id": "_tIucxPlo7vP"
      },
      "execution_count": null,
      "outputs": []
    },
    {
      "cell_type": "code",
      "source": [
        "# Scraping data for all best-selling books\n",
        "title, author, ratings, format, price = [], [], [], [], []\n",
        "books = soup.find_all('div', {'class' : '_octopus-search-result-card_style_apbSearchResultItem__2-mx4',})\n",
        "for book in books:\n",
        "  book_data_content = list(list(book.find('div', recursive = False).find('div', recursive = False).find_all('div', recursive = False))[1].find_all('div', recursive = False))\n",
        "  book_name = book_data_content[0].find_all('span')[0].text\n",
        "  title.append(book_name)\n",
        "  book_author = list(book_data_content[0].find_all('span'))[2].text\n",
        "  author.append(book_author)\n",
        "  book_ratings = list(book_data_content[1].find_all('span'))[4].text\n",
        "  ratings.append(book_ratings)\n",
        "  book_format = list(book_data_content[2].find_all('a'))[0].text\n",
        "  format.append(book_format)\n",
        "  book_price = list(book_data_content[2].find_all('span'))[1].text\n",
        "  price.append(book_price)"
      ],
      "metadata": {
        "id": "D7QERUnZqIld"
      },
      "execution_count": 26,
      "outputs": []
    },
    {
      "cell_type": "code",
      "source": [
        "# Create dataframe for scraped data\n",
        "import pandas as pd\n",
        "data = {\n",
        "    'title' : title,\n",
        "    'author' : author,\n",
        "    'ratings' : ratings, \n",
        "    'format' : format,\n",
        "    'price' : price\n",
        "}\n",
        "df = pd.DataFrame(data)\n",
        "print(df.head())"
      ],
      "metadata": {
        "id": "-Fd8hk_9nJE4"
      },
      "execution_count": null,
      "outputs": []
    },
    {
      "cell_type": "code",
      "source": [
        "# Convert dataframe to csv file\n",
        "df.to_csv('best_selling_books_info.csv')"
      ],
      "metadata": {
        "id": "00XfujTtnvOj"
      },
      "execution_count": 31,
      "outputs": []
    },
    {
      "cell_type": "code",
      "source": [
        "# Scraping data for one book\n",
        "book_data_content = list(list(books[0].find('div', recursive = False).find('div', recursive = False).find_all('div', recursive = False))[1].find_all('div', recursive = False))\n",
        "book_name = book_data_content[0].find_all('span')[0].text\n",
        "print('book_name ' + str(book_name)) \n",
        "book_author = list(book_data_content[0].find_all('span'))[2].text\n",
        "print('book_author ' + str(book_author))\n",
        "book_ratings = list(book_data_content[1].find_all('span'))[4].text\n",
        "print('book_ratings ' + str(book_ratings))\n",
        "book_format = list(book_data_content[2].find_all('a'))[0].text\n",
        "print('book_format ' + str(book_format))\n",
        "book_price = list(book_data_content[2].find_all('span'))[1].text\n",
        "print('book_price ' + book_price)"
      ],
      "metadata": {
        "colab": {
          "base_uri": "https://localhost:8080/"
        },
        "id": "Bd6wOtXRWxQA",
        "outputId": "9401ab97-2db8-4688-8fd3-6eb649393d7b"
      },
      "execution_count": 19,
      "outputs": [
        {
          "output_type": "stream",
          "name": "stdout",
          "text": [
            "book_name Lessons in Chemistry\n",
            "book_author Bonnie Garmus\n",
            "book_ratings 141,831\n",
            "book_format Paperback\n",
            "book_price $19.96\n"
          ]
        }
      ]
    }
  ]
}